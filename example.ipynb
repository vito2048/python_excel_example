{
 "cells": [
  {
   "cell_type": "code",
   "execution_count": 3,
   "metadata": {},
   "outputs": [],
   "source": [
    "import openpyxl as xl\n",
    "# read the excel file\n",
    "excel = xl.load_workbook('test_excel.xlsx')\n",
    "# sheet1 will be the active sheet (the one that's opened first)\n",
    "sheet1 = excel.active\n",
    "# now we create sample dataset to write into this sheet\n",
    "treeData = [[\"Type\", \"Leaf Color\", \"Height\"], [\"Maple\", \"Red\", 549], [\"Oak\", \"Green\", 783], [\"Pine\", \"Green\", 1204]]\n",
    "# we use append method to add data\n",
    "# every element of the list will be added in the next row\n",
    "for row in treeData:\n",
    "    sheet1.append(row)\n",
    "# lastly we save the excel file\n",
    "excel.save('test_excel.xlsx')"
   ]
  },
  {
   "cell_type": "code",
   "execution_count": null,
   "metadata": {},
   "outputs": [],
   "source": []
  },
  {
   "cell_type": "code",
   "execution_count": null,
   "metadata": {},
   "outputs": [],
   "source": []
  }
 ],
 "metadata": {
  "kernelspec": {
   "display_name": "Python 3",
   "language": "python",
   "name": "python3"
  },
  "language_info": {
   "codemirror_mode": {
    "name": "ipython",
    "version": 3
   },
   "file_extension": ".py",
   "mimetype": "text/x-python",
   "name": "python",
   "nbconvert_exporter": "python",
   "pygments_lexer": "ipython3",
   "version": "3.10.4"
  },
  "orig_nbformat": 4,
  "vscode": {
   "interpreter": {
    "hash": "3a5398cf7af4dcfa7c227579d5a8af8897c1f5f2eff2220b136b85ec0f6b797e"
   }
  }
 },
 "nbformat": 4,
 "nbformat_minor": 2
}
